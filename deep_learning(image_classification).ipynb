{
 "cells": [
  {
   "cell_type": "code",
   "execution_count": 1,
   "id": "06ff37c0",
   "metadata": {},
   "outputs": [],
   "source": [
    "import tensorflow"
   ]
  },
  {
   "cell_type": "code",
   "execution_count": 2,
   "id": "93610a05",
   "metadata": {},
   "outputs": [],
   "source": [
    "import keras"
   ]
  },
  {
   "cell_type": "code",
   "execution_count": 3,
   "id": "aa7b656e",
   "metadata": {},
   "outputs": [],
   "source": [
    "import numpy as np\n",
    "import matplotlib.pyplot as plt\n",
    "%matplotlib inline"
   ]
  },
  {
   "cell_type": "code",
   "execution_count": 4,
   "id": "849cae96",
   "metadata": {},
   "outputs": [],
   "source": [
    "from tensorflow.keras.datasets import fashion_mnist\n",
    "(x_train,y_train),(x_test,y_test) = fashion_mnist.load_data()"
   ]
  },
  {
   "cell_type": "code",
   "execution_count": 5,
   "id": "71d0a498",
   "metadata": {},
   "outputs": [
    {
     "data": {
      "text/plain": [
       "(60000, 28, 28)"
      ]
     },
     "execution_count": 5,
     "metadata": {},
     "output_type": "execute_result"
    }
   ],
   "source": [
    "x_train.shape"
   ]
  },
  {
   "cell_type": "code",
   "execution_count": 6,
   "id": "d990b6ff",
   "metadata": {},
   "outputs": [
    {
     "data": {
      "text/plain": [
       "(10000, 28, 28)"
      ]
     },
     "execution_count": 6,
     "metadata": {},
     "output_type": "execute_result"
    }
   ],
   "source": [
    "x_test.shape"
   ]
  },
  {
   "cell_type": "code",
   "execution_count": 7,
   "id": "e1eb37fc",
   "metadata": {},
   "outputs": [
    {
     "data": {
      "text/plain": [
       "<matplotlib.image.AxesImage at 0x2aaaabff5e0>"
      ]
     },
     "execution_count": 7,
     "metadata": {},
     "output_type": "execute_result"
    },
    {
     "data": {
      "image/png": "[encoded data removed]",
      "text/plain": [
       "<Figure size 480x480 with 1 Axes>"
      ]
     },
     "metadata": {},
     "output_type": "display_data"
    }
   ],
   "source": [
    "plt.matshow(x_train[11])"
   ]
  },
  {
   "cell_type": "code",
   "execution_count": 8,
   "id": "f95947ac",
   "metadata": {},
   "outputs": [
    {
     "data": {
      "text/plain": [
       "array([[  0,   0,   0,   0,   0,   0,   0,   0,   0,   0,   0,   0,   0,\n",
       "          0,  39, 111,  93,  85,  27,   0,   0,   0,   0,   0,   1,   0,\n",
       "          0,   0],\n",
       "       [  0,   0,   0,   0,   0,   0,   0,   0,   0,   0,   0,   1,   0,\n",
       "          0, 190, 244, 248, 255, 255, 155, 202, 212, 150,   9,   0,   3,\n",
       "          0,   0],\n",
       "       [  0,   0,   0,   0,   0,   0,   0,   0,   0,   0,   0,   2,   0,\n",
       "          0, 213, 227, 233, 227, 243, 246, 255, 250, 255, 146,   0,   9,\n",
       "          0,   0],\n",
       "       [  0,   0,   0,   0,   0,   0,   0,   0,   0,   0,   0,   4,   0,\n",
       "          6, 244, 233, 236, 244, 232, 214, 248, 242, 251,  33,   0,   7,\n",
       "          0,   0],\n",
       "       [  0,   0,   0,   0,   0,   0,   0,   0,   0,   0,   1,   6,   0,\n",
       "         72, 255, 231, 239, 244, 237, 226, 255, 252, 207,  44,  24,   0,\n",
       "          2,   0],\n",
       "       [  0,   0,   0,   0,   0,   0,   0,   0,   0,   0,   0,   0,   0,\n",
       "        125, 231, 215, 253, 252, 234, 246, 254, 239, 128, 114,  63,   0,\n",
       "          3,   0],\n",
       "       [  0,   0,   0,   0,   0,   0,   0,   0,   0,   0,   1,   0,   0,\n",
       "        189, 230, 198, 185, 219, 218, 255, 206, 255, 133,  31,   0,   0,\n",
       "          0,   0],\n",
       "       [  0,   0,   0,   0,   0,   0,   0,   0,   0,   0,   4,   0,   0,\n",
       "        224, 241, 255, 236, 237, 223, 191, 219, 166,   0,   0,   1,   0,\n",
       "          0,   0],\n",
       "       [  0,   0,   0,   0,   0,   0,   0,   0,   0,   0,   1,   0,  61,\n",
       "        245, 202, 220, 237, 220, 242, 199, 255, 178,   0,   0,   1,   0,\n",
       "          0,   0],\n",
       "       [  0,   0,   0,   0,   0,   0,   0,   0,   0,   0,   0,   0, 153,\n",
       "        247, 205, 202, 212, 207, 225, 190, 255,  93, 141,   0,   0,   1,\n",
       "          0,   0],\n",
       "       [  0,   0,   0,   0,   0,   0,   0,   0,   0,   3,   0,   0, 222,\n",
       "        228, 233, 243, 248, 242, 242, 209, 255,   0,  90, 177,   0,   0,\n",
       "          0,   0],\n",
       "       [  0,   0,   0,   0,   0,   0,   0,   0,   0,   2,   0,  46, 255,\n",
       "        221, 235, 235, 213, 248, 220, 206, 255, 225,  28, 255,   0,   0,\n",
       "          0,   0],\n",
       "       [  0,   0,   0,   0,   0,   0,   0,   0,   0,   0,   0, 116, 250,\n",
       "        215, 227, 231, 226, 255, 195, 216, 250, 255, 159, 255, 160,   0,\n",
       "          0,   0],\n",
       "       [  0,   0,   0,   0,   0,   0,   0,   0,   3,   0,   7, 226, 202,\n",
       "        241, 247, 241, 228, 255, 175, 229, 252, 241, 255, 224, 224,  76,\n",
       "          0,   0],\n",
       "       [  0,   0,   0,   0,   0,   0,   0,   0,   0,   0, 131, 255, 210,\n",
       "        212, 251, 252, 229, 255, 175, 227, 254, 239, 245, 230, 223, 149,\n",
       "         90,   0],\n",
       "       [  0,   0,   0,   0,   0,   0,   0,   2,   0,   0, 227, 238, 238,\n",
       "        225, 205, 242, 246, 223, 187, 221, 254, 238, 255, 233, 156,   0,\n",
       "          0,   0],\n",
       "       [  0,   0,   0,   0,   0,   1,   0,   0,   0,  77, 255, 239, 248,\n",
       "        252, 237, 195, 201, 232, 190, 205, 252, 235, 255, 199,   0,   0,\n",
       "          0,   0],\n",
       "       [  0,   0,   0,   0,   0,   0,   0,   0,   0, 207, 223, 186, 215,\n",
       "        223, 255, 255, 217, 229, 254, 251, 244, 240, 255, 207,   0,   0,\n",
       "          1,   0],\n",
       "       [  0,   0,   0,   0,   0,   0,   2,   0,  53, 254, 234, 239, 222,\n",
       "        190, 187, 200, 250, 237, 195, 251, 250, 237, 253, 192,   0,   0,\n",
       "          0,   0],\n",
       "       [  0,   0,   0,   2,   4,   2,   0,   0, 190, 247, 233, 231, 250,\n",
       "        254, 247, 208, 208, 231, 226, 207, 246, 235, 248, 175,   0,   0,\n",
       "          0,   0],\n",
       "       [  0,   1,   6,   0,   0,   0,   0, 117, 245, 184, 242, 238, 235,\n",
       "        238, 244, 233, 255, 255,  99, 155, 255, 233, 252, 154,   0,   0,\n",
       "          0,   0],\n",
       "       [  0,   0,   0,   0,   3,  33, 141, 255, 197, 208, 184, 234, 246,\n",
       "        240, 243, 231, 255,  77,   0, 172, 255, 231, 253, 139,   0,   1,\n",
       "          0,   0],\n",
       "       [  0,   0,  84, 243, 246, 255, 254, 240, 241, 190, 229, 198, 243,\n",
       "        244, 238, 255,  80,   0,   0, 176, 255, 231, 252, 113,   0,   3,\n",
       "          0,   0],\n",
       "       [  0,  25, 223, 239, 230, 231, 231, 234, 241, 247, 191, 225, 230,\n",
       "        252, 255, 173,   0,   0,   0, 170, 255, 228, 251,  97,   0,   4,\n",
       "          0,   0],\n",
       "       [  0, 103, 241, 217, 228, 230, 238, 241, 238, 248, 244, 216, 172,\n",
       "        223, 255,   0,   0,   7,   0, 159, 255, 234, 251,  74,   0,   4,\n",
       "          0,   0],\n",
       "       [  0,   9, 188, 229, 242, 241, 243, 240, 236, 238, 241, 251, 237,\n",
       "        253,  64,   0,   0,   3,   0, 154, 255, 229, 255,  62,   0,   7,\n",
       "          0,   0],\n",
       "       [  0,   0,   0,  28, 123, 199, 249, 255, 255, 255, 255, 255, 245,\n",
       "         72,   0,   0,   0,   3,   0, 117, 255, 245, 220,  19,   0,   4,\n",
       "          0,   0],\n",
       "       [  0,   0,   0,   0,   0,   0,   0,  38,  72,  89,  71,  37,   0,\n",
       "          0,   0,   0,   0,   3,   0,   0,  64,  42,  24,   0,   0,   0,\n",
       "          0,   0]], dtype=uint8)"
      ]
     },
     "execution_count": 8,
     "metadata": {},
     "output_type": "execute_result"
    }
   ],
   "source": [
    "x_train[11]"
   ]
  },
  {
   "cell_type": "code",
   "execution_count": 9,
   "id": "682491a3",
   "metadata": {},
   "outputs": [],
   "source": [
    "from tensorflow.keras.models import Sequential\n",
    "from tensorflow.keras.layers import Dense,Activation,Flatten"
   ]
  },
  {
   "cell_type": "code",
   "execution_count": 10,
   "id": "d17120dd",
   "metadata": {},
   "outputs": [],
   "source": [
    "x_train = x_train/255\n",
    "x_test = x_test/255"
   ]
  },
  {
   "cell_type": "code",
   "execution_count": 11,
   "id": "5e59a715",
   "metadata": {},
   "outputs": [],
   "source": [
    "model = Sequential()"
   ]
  },
  {
   "cell_type": "code",
   "execution_count": 12,
   "id": "f362c0fa",
   "metadata": {},
   "outputs": [],
   "source": [
    "model.add(Flatten(input_shape=[28,28]))\n",
    "model.add(Dense(200,activation='relu'))\n",
    "model.add(Dense(10,activation='softmax'))"
   ]
  },
  {
   "cell_type": "code",
   "execution_count": 13,
   "id": "22505aeb",
   "metadata": {},
   "outputs": [
    {
     "name": "stdout",
     "output_type": "stream",
     "text": [
      "Model: \"sequential\"\n",
      "_________________________________________________________________\n",
      " Layer (type)                Output Shape              Param #   \n",
      "=================================================================\n",
      " flatten (Flatten)           (None, 784)               0         \n",
      "                                                                 \n",
      " dense (Dense)               (None, 200)               157000    \n",
      "                                                                 \n",
      " dense_1 (Dense)             (None, 10)                2010      \n",
      "                                                                 \n",
      "=================================================================\n",
      "Total params: 159010 (621.13 KB)\n",
      "Trainable params: 159010 (621.13 KB)\n",
      "Non-trainable params: 0 (0.00 Byte)\n",
      "_________________________________________________________________\n"
     ]
    }
   ],
   "source": [
    "model.summary()"
   ]
  },
  {
   "cell_type": "code",
   "execution_count": 14,
   "id": "101f036d",
   "metadata": {},
   "outputs": [],
   "source": [
    "model.compile(loss='sparse_categorical_crossentropy',optimizer='adam',metrics='accuracy')"
   ]
  },
  {
   "cell_type": "code",
   "execution_count": 15,
   "id": "3df56ff5",
   "metadata": {},
   "outputs": [
    {
     "name": "stdout",
     "output_type": "stream",
     "text": [
      "Epoch 1/10\n",
      "1875/1875 [==============================] - 12s 5ms/step - loss: 0.4880 - accuracy: 0.8276\n",
      "Epoch 2/10\n",
      "1875/1875 [==============================] - 10s 5ms/step - loss: 0.3679 - accuracy: 0.8668\n",
      "Epoch 3/10\n",
      "1875/1875 [==============================] - 10s 6ms/step - loss: 0.3294 - accuracy: 0.8792\n",
      "Epoch 4/10\n",
      "1875/1875 [==============================] - 12s 6ms/step - loss: 0.3060 - accuracy: 0.8871\n",
      "Epoch 5/10\n",
      "1875/1875 [==============================] - 10s 5ms/step - loss: 0.2895 - accuracy: 0.8928\n",
      "Epoch 6/10\n",
      "1875/1875 [==============================] - 9s 5ms/step - loss: 0.2721 - accuracy: 0.8982\n",
      "Epoch 7/10\n",
      "1875/1875 [==============================] - 10s 5ms/step - loss: 0.2599 - accuracy: 0.9038\n",
      "Epoch 8/10\n",
      "1875/1875 [==============================] - 11s 6ms/step - loss: 0.2500 - accuracy: 0.9075\n",
      "Epoch 9/10\n",
      "1875/1875 [==============================] - 12s 7ms/step - loss: 0.2411 - accuracy: 0.9096\n",
      "Epoch 10/10\n",
      "1875/1875 [==============================] - 10s 5ms/step - loss: 0.2310 - accuracy: 0.9121\n"
     ]
    },
    {
     "data": {
      "text/plain": [
       "<keras.src.callbacks.History at 0x2aab09f61a0>"
      ]
     },
     "execution_count": 15,
     "metadata": {},
     "output_type": "execute_result"
    }
   ],
   "source": [
    "model.fit(x_train,y_train,epochs=10)"
   ]
  },
  {
   "cell_type": "code",
   "execution_count": 17,
   "id": "2f676d3f",
   "metadata": {},
   "outputs": [
    {
     "name": "stdout",
     "output_type": "stream",
     "text": [
      "313/313 [==============================] - 1s 3ms/step\n"
     ]
    }
   ],
   "source": [
    "y_predict = model.predict(x_test)"
   ]
  },
  {
   "cell_type": "code",
   "execution_count": 18,
   "id": "d1ff0368",
   "metadata": {},
   "outputs": [
    {
     "data": {
      "text/plain": [
       "<matplotlib.image.AxesImage at 0x2aab114f970>"
      ]
     },
     "execution_count": 18,
     "metadata": {},
     "output_type": "execute_result"
    },
    {
     "data": {
      "image/png": "[encoded data removed]",
      "text/plain": [
       "<Figure size 480x480 with 1 Axes>"
      ]
     },
     "metadata": {},
     "output_type": "display_data"
    }
   ],
   "source": [
    "plt.matshow(x_test[34])"
   ]
  },
  {
   "cell_type": "code",
   "execution_count": 19,
   "id": "22c8a0f9",
   "metadata": {},
   "outputs": [
    {
     "data": {
      "text/plain": [
       "8"
      ]
     },
     "execution_count": 19,
     "metadata": {},
     "output_type": "execute_result"
    }
   ],
   "source": [
    "np.argmax(y_predict[34])"
   ]
  },
  {
   "cell_type": "code",
   "execution_count": 20,
   "id": "ffac0e5e",
   "metadata": {},
   "outputs": [
    {
     "name": "stdout",
     "output_type": "stream",
     "text": [
      "313/313 [==============================] - 1s 3ms/step - loss: 0.3279 - accuracy: 0.8852\n"
     ]
    },
    {
     "data": {
      "text/plain": [
       "[0.3278672695159912, 0.885200023651123]"
      ]
     },
     "execution_count": 20,
     "metadata": {},
     "output_type": "execute_result"
    }
   ],
   "source": [
    "model.evaluate(x_test,y_test)"
   ]
  },
  {
   "cell_type": "code",
   "execution_count": null,
   "id": "3967b256",
   "metadata": {},
   "outputs": [],
   "source": []
  }
 ],
 "metadata": {
  "kernelspec": {
   "display_name": "Python 3 (ipykernel)",
   "language": "python",
   "name": "python3"
  },
  "language_info": {
   "codemirror_mode": {
    "name": "ipython",
    "version": 3
   },
   "file_extension": ".py",
   "mimetype": "text/x-python",
   "name": "python",
   "nbconvert_exporter": "python",
   "pygments_lexer": "ipython3",
   "version": "3.10.9"
  }
 },
 "nbformat": 4,
 "nbformat_minor": 5
}
